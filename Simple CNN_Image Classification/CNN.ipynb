{
 "cells": [
  {
   "cell_type": "markdown",
   "id": "86069c58",
   "metadata": {},
   "source": [
    "# Image Classification using Convolutional Neural Network"
   ]
  },
  {
   "cell_type": "code",
   "execution_count": null,
   "id": "84834a87",
   "metadata": {},
   "outputs": [],
   "source": [
    "# pip install tensorflow"
   ]
  },
  {
   "cell_type": "code",
   "execution_count": 2,
   "id": "82913838",
   "metadata": {},
   "outputs": [],
   "source": [
    "# pip install openCV-python"
   ]
  },
  {
   "cell_type": "code",
   "execution_count": 1,
   "id": "1ba9ffe7",
   "metadata": {},
   "outputs": [],
   "source": [
    "# Title: Using Convolution Neural Network for Image Classification \n",
    "# Author: Niklas Lang\n",
    "# Date: December 04, 2021\n",
    "# Code version: 1.0\n",
    "# Availability: https://towardsdatascience.com/using-convolutional-neural-network-for-image-classification-5997bfd0ede4"
   ]
  },
  {
   "cell_type": "code",
   "execution_count": 3,
   "id": "ce450fa9",
   "metadata": {},
   "outputs": [],
   "source": [
    "import pandas as pd\n",
    "import numpy as np\n",
    "from keras.models import Sequential\n",
    "import tensorflow as tf\n",
    "\n",
    "from keras.layers.core import Dense,Activation,Dropout,Flatten\n",
    "from keras.layers.convolutional import Convolution2D, MaxPooling2D\n",
    "from keras.optimizers import SGD, RMSprop, adam_v2\n",
    "from keras.utils import np_utils\n",
    "from sklearn.tree import DecisionTreeClassifier\n",
    "from sklearn import metrics\n",
    "from sklearn.utils import shuffle\n",
    "from sklearn.model_selection import train_test_split\n",
    "import matplotlib.pyplot as plt\n",
    "import os\n",
    "import cv2\n",
    "import random \n",
    "from numpy import * \n",
    "import keras"
   ]
  },
  {
   "cell_type": "code",
   "execution_count": 4,
   "id": "93e8c8d3",
   "metadata": {},
   "outputs": [],
   "source": [
    "# path = \"./imageset/train\"\n",
    "path = \"/content/drive/MyDrive/data/imageset/train\"  #Use the path for google drive\n",
    "\n",
    "#Class names were assigned to each folder to better identify each class.\n",
    "Class_names = [\"FISH\",\"DOG\",\"CHAINSAW\",\"TRUCK\", \"TRUMPET\",\"RADIO\",\"MONUMENT\",\"GOLFBALL\",\"PARACHUTE\",\"FUELPUMP\"]\n",
    "IMG_SIZE=224"
   ]
  },
  {
   "cell_type": "code",
   "execution_count": 5,
   "id": "64107d47",
   "metadata": {},
   "outputs": [],
   "source": [
    "training = []\n",
    "def createTrainingData():\n",
    "  for category in Class_names:\n",
    "    path = os.path.join(path_test, category)\n",
    "    class_num = Class_names.index(category)\n",
    "\n",
    "    for img in os.listdir(path):\n",
    "      img_array = cv2.imread(os.path.join(path,img))\n",
    "      new_array = cv2.resize(img_array, (IMG_SIZE,IMG_SIZE))\n",
    "      training.append([new_array,class_num])\n",
    "   \n",
    "createTrainingData() #Reads images from each class, converts them to arrays and assign class labels"
   ]
  },
  {
   "cell_type": "code",
   "execution_count": 6,
   "id": "0f4d2119",
   "metadata": {},
   "outputs": [],
   "source": [
    "X = []\n",
    "y = []\n",
    "for features, label in training:\n",
    "  X.append(features)\n",
    "  y.append(label)\n",
    "X = np.array(X).reshape(-1,IMG_SIZE,IMG_SIZE,3)"
   ]
  },
  {
   "cell_type": "code",
   "execution_count": 7,
   "id": "32052e04",
   "metadata": {},
   "outputs": [],
   "source": [
    "random.shuffle(training)"
   ]
  },
  {
   "cell_type": "code",
   "execution_count": 8,
   "id": "076106ad",
   "metadata": {},
   "outputs": [
    {
     "name": "stdout",
     "output_type": "stream",
     "text": [
      "[1. 0. 0. 0. 0. 0. 0. 0. 0. 0.]\n",
      "(9469, 10)\n"
     ]
    }
   ],
   "source": [
    "X = X.astype('float32')\n",
    "X /= 255\n",
    "\n",
    "from keras.utils import np_utils\n",
    "Y = np_utils.to_categorical(y, 10)\n",
    "print(Y[100])\n",
    "print(shape(Y))"
   ]
  },
  {
   "cell_type": "markdown",
   "id": "553561f7",
   "metadata": {},
   "source": [
    "## Train-Test Splitting\n",
    "- validation folder kept for model evaluation"
   ]
  },
  {
   "cell_type": "code",
   "execution_count": 9,
   "id": "eba57f58",
   "metadata": {},
   "outputs": [],
   "source": [
    "X_train,X_test, y_train, y_test = train_test_split(X, y, test_size = 0.2, random_state = 4)"
   ]
  },
  {
   "cell_type": "markdown",
   "id": "896ad942",
   "metadata": {},
   "source": [
    "## Baseline Model"
   ]
  },
  {
   "cell_type": "code",
   "execution_count": 36,
   "id": "ea6fc332",
   "metadata": {},
   "outputs": [],
   "source": [
    "#prepare the model with different layers\n",
    "model = tf.keras.Sequential([\n",
    "tf.keras.layers.Conv2D(32,(3,3), padding='valid', activation= tf.nn.relu,\n",
    "                       kernel_initializer= 'he_normal',input_shape= (224,224,3)),\n",
    "tf.keras.layers.MaxPooling2D((2,2), strides = 2),\n",
    "tf.keras.layers.Conv2D(32,(3,3), padding = 'valid', activation = tf.nn.relu),\n",
    "tf.keras.layers.MaxPooling2D((2,2), strides = 2),\n",
    "tf.keras.layers.Flatten(),\n",
    "tf.keras.layers.Dense(128, activation= tf.nn.relu),\n",
    "tf.keras.layers.Dense(10, activation= tf.nn.softmax)\n",
    "])\n",
    "\n",
    "#compile the model\n",
    "model.compile(optimizer= 'adam', loss= 'sparse_categorical_crossentropy', metrics=['accuracy'])"
   ]
  },
  {
   "cell_type": "code",
   "execution_count": 37,
   "id": "405e5790",
   "metadata": {},
   "outputs": [
    {
     "name": "stdout",
     "output_type": "stream",
     "text": [
      "Epoch 1/5\n",
      "237/237 [==============================] - 164s 659ms/step - loss: 2.3049 - accuracy: 0.3374 - val_loss: 1.5169 - val_accuracy: 0.5090\n",
      "Epoch 2/5\n",
      "237/237 [==============================] - 170s 716ms/step - loss: 1.1439 - accuracy: 0.6283 - val_loss: 1.3310 - val_accuracy: 0.5913\n",
      "Epoch 3/5\n",
      "237/237 [==============================] - 175s 738ms/step - loss: 0.4335 - accuracy: 0.8653 - val_loss: 1.5219 - val_accuracy: 0.5971\n",
      "Epoch 4/5\n",
      "237/237 [==============================] - 153s 644ms/step - loss: 0.1204 - accuracy: 0.9678 - val_loss: 1.9420 - val_accuracy: 0.5866\n",
      "Epoch 5/5\n",
      "237/237 [==============================] - 676s 3s/step - loss: 0.0451 - accuracy: 0.9904 - val_loss: 2.1232 - val_accuracy: 0.5834\n"
     ]
    }
   ],
   "source": [
    "history = model.fit(np.array(X_train), np.array(y_train),batch_size = 32 ,epochs = 5, verbose = 1,\n",
    "                    validation_data=(np.array(X_test), np.array(y_test)))"
   ]
  },
  {
   "cell_type": "code",
   "execution_count": 45,
   "id": "233d538a",
   "metadata": {},
   "outputs": [
    {
     "data": {
      "image/png": "[encoded data removed]",
      "text/plain": [
       "<Figure size 700x300 with 1 Axes>"
      ]
     },
     "metadata": {},
     "output_type": "display_data"
    }
   ],
   "source": [
    "plt.figure(figsize=(7, 3))\n",
    "plt.plot(history.history['accuracy'], color='blue', label='Training')\n",
    "plt.plot(history.history['val_accuracy'],linestyle = '--',color='green', label='Validation')\n",
    "\n",
    "plt.title('Comparing accuracies for Baseline Model')\n",
    "plt.xlabel('Epoch')\n",
    "plt.xticks(range(0,5))\n",
    "plt.xlim([0,4])\n",
    "plt.ylim([0,1])\n",
    "plt.legend()\n",
    "plt.show()"
   ]
  },
  {
   "cell_type": "code",
   "execution_count": 20,
   "id": "426ceeec",
   "metadata": {},
   "outputs": [],
   "source": [
    "#Tried Grid Search method to find optimal paramters, unsuccessful attempt\n",
    "\n",
    "# from sklearn.model_selection import GridSearchCV\n",
    "# from keras.wrappers.scikit_learn import KerasClassifier\n",
    "\n",
    "# model1 = KerasClassifier(build_fn=classification_model('Adam'), verbose=0)\n",
    "\n",
    "# param_grid = {'batch_size': [32,64,128],\n",
    "#               'epochs': [2,5,7]}\n",
    "# grid = GridSearchCV(estimator=model1, param_grid=param_grid, n_jobs=-1, cv=3)\n",
    "# grid_result = grid.fit(X_train, y_train)\n",
    "# # summarize results\n",
    "# print(\"Best: %f using %s\" % (grid_result.best_score_, grid_result.best_params_))\n",
    "# means = grid_result.cv_results_['mean_test_score']\n",
    "# stds = grid_result.cv_results_['std_test_score']\n",
    "# params = grid_result.cv_results_['params']\n",
    "# for mean, stdev, param in zip(means, stds, params):\n",
    "#     print(\"%f (%f) with: %r\" % (mean, stdev, param))"
   ]
  },
  {
   "cell_type": "markdown",
   "id": "34831a2b",
   "metadata": {},
   "source": [
    "## Hyperparameter tuning for the best optimizer"
   ]
  },
  {
   "cell_type": "markdown",
   "id": "f2d95724",
   "metadata": {},
   "source": [
    "## Model1: Adam "
   ]
  },
  {
   "cell_type": "code",
   "execution_count": 50,
   "id": "eb75eb40",
   "metadata": {},
   "outputs": [],
   "source": [
    "model1 = tf.keras.Sequential([\n",
    "    tf.keras.layers.Conv2D(32,(3,3), padding='valid', activation= tf.nn.relu,\n",
    "                           kernel_initializer= 'he_normal',input_shape= (224,224,3)),\n",
    "    tf.keras.layers.BatchNormalization(),\n",
    "    tf.keras.layers.MaxPooling2D((2,2), strides = 2),\n",
    "    tf.keras.layers.Conv2D(32,(3,3), padding = 'valid', activation = tf.nn.relu),\n",
    "    tf.keras.layers.BatchNormalization(),\n",
    "    tf.keras.layers.MaxPooling2D((2,2), strides = 2),\n",
    "    tf.keras.layers.Dropout(0.5),\n",
    "    tf.keras.layers.Flatten(),\n",
    "    tf.keras.layers.Dense(128, activation= tf.nn.relu),\n",
    "    tf.keras.layers.BatchNormalization(),\n",
    "    tf.keras.layers.Dense(10, activation= tf.nn.softmax)\n",
    "    ])\n",
    "model1.compile(optimizer= 'adam', loss= 'sparse_categorical_crossentropy', metrics=['accuracy'])"
   ]
  },
  {
   "cell_type": "code",
   "execution_count": null,
   "id": "a3b1be8d",
   "metadata": {},
   "outputs": [],
   "source": [
    "hist1 = model1.fit(np.array(X_train), np.array(y_train),batch_size = 32 ,epochs = 5, verbose = 1,\n",
    "                        validation_data=(np.array(X_test), np.array(y_test)))"
   ]
  },
  {
   "cell_type": "markdown",
   "id": "270216ae",
   "metadata": {},
   "source": [
    "## Model2: RMSProp "
   ]
  },
  {
   "cell_type": "code",
   "execution_count": 19,
   "id": "5dd9d728",
   "metadata": {},
   "outputs": [],
   "source": [
    "model2 = tf.keras.Sequential([\n",
    "    tf.keras.layers.Conv2D(32,(3,3), padding='valid', activation= tf.nn.relu,\n",
    "                           kernel_initializer= 'he_normal',input_shape= (224,224,3)),\n",
    "    tf.keras.layers.BatchNormalization(),\n",
    "    tf.keras.layers.MaxPooling2D((2,2), strides = 2),\n",
    "    tf.keras.layers.Conv2D(32,(3,3), padding = 'valid', activation = tf.nn.relu),\n",
    "    tf.keras.layers.BatchNormalization(),\n",
    "    tf.keras.layers.MaxPooling2D((2,2), strides = 2),\n",
    "    tf.keras.layers.Dropout(0.5),\n",
    "    tf.keras.layers.Flatten(),\n",
    "    tf.keras.layers.Dense(128, activation= tf.nn.relu),\n",
    "    tf.keras.layers.BatchNormalization(),\n",
    "    tf.keras.layers.Dense(10, activation= tf.nn.softmax)\n",
    "    ])\n",
    "model2.compile(optimizer= 'RMSProp', loss= 'sparse_categorical_crossentropy', metrics=['accuracy'])"
   ]
  },
  {
   "cell_type": "code",
   "execution_count": 20,
   "id": "a6105746",
   "metadata": {
    "scrolled": true
   },
   "outputs": [
    {
     "name": "stdout",
     "output_type": "stream",
     "text": [
      "Epoch 1/5\n",
      "237/237 [==============================] - 723s 3s/step - loss: 1.5454 - accuracy: 0.5019 - val_loss: 2.2720 - val_accuracy: 0.3083\n",
      "Epoch 2/5\n",
      "237/237 [==============================] - 186s 787ms/step - loss: 0.7387 - accuracy: 0.7678 - val_loss: 1.3755 - val_accuracy: 0.5528\n",
      "Epoch 3/5\n",
      "237/237 [==============================] - 211s 892ms/step - loss: 0.2515 - accuracy: 0.9307 - val_loss: 1.3111 - val_accuracy: 0.6235\n",
      "Epoch 4/5\n",
      "237/237 [==============================] - 206s 868ms/step - loss: 0.1001 - accuracy: 0.9727 - val_loss: 1.4070 - val_accuracy: 0.6283\n",
      "Epoch 5/5\n",
      "237/237 [==============================] - 246s 1s/step - loss: 0.0529 - accuracy: 0.9877 - val_loss: 1.7609 - val_accuracy: 0.6019\n"
     ]
    }
   ],
   "source": [
    "hist2 = model2.fit(np.array(X_train), np.array(y_train),batch_size = 32 ,epochs = 5, verbose = 1,\n",
    "                        validation_data=(np.array(X_test), np.array(y_test)))"
   ]
  },
  {
   "cell_type": "code",
   "execution_count": null,
   "id": "b54ebd21",
   "metadata": {},
   "outputs": [],
   "source": []
  },
  {
   "cell_type": "markdown",
   "id": "920f8ab1",
   "metadata": {},
   "source": [
    "### Model 3: Stochastic Gradient Descent (SGD)"
   ]
  },
  {
   "cell_type": "code",
   "execution_count": 40,
   "id": "04f62ff4",
   "metadata": {},
   "outputs": [],
   "source": [
    "model3 = tf.keras.Sequential([\n",
    "    tf.keras.layers.Conv2D(32,(3,3), padding='valid', activation= tf.nn.relu,\n",
    "                           kernel_initializer= 'he_normal',input_shape= (224,224,3)),\n",
    "    tf.keras.layers.BatchNormalization(),\n",
    "    tf.keras.layers.MaxPooling2D((2,2), strides = 2),\n",
    "    tf.keras.layers.Conv2D(32,(3,3), padding = 'valid', activation = tf.nn.relu),\n",
    "    tf.keras.layers.BatchNormalization(),\n",
    "    tf.keras.layers.MaxPooling2D((2,2), strides = 2),\n",
    "    tf.keras.layers.Dropout(0.5),\n",
    "    tf.keras.layers.Flatten(),\n",
    "    tf.keras.layers.Dense(128, activation= tf.nn.relu),\n",
    "    tf.keras.layers.BatchNormalization(),\n",
    "    tf.keras.layers.Dense(10, activation= tf.nn.softmax)\n",
    "    ])\n",
    "model3.compile(optimizer= 'SGD', loss= 'sparse_categorical_crossentropy', metrics=['accuracy'])"
   ]
  },
  {
   "cell_type": "code",
   "execution_count": 41,
   "id": "157cadda",
   "metadata": {},
   "outputs": [
    {
     "name": "stdout",
     "output_type": "stream",
     "text": [
      "Epoch 1/5\n",
      "237/237 [==============================] - 475s 2s/step - loss: 1.5389 - accuracy: 0.4965 - val_loss: 2.6094 - val_accuracy: 0.2239\n",
      "Epoch 2/5\n",
      "237/237 [==============================] - 560s 2s/step - loss: 0.7908 - accuracy: 0.7506 - val_loss: 1.5635 - val_accuracy: 0.5127\n",
      "Epoch 3/5\n",
      "237/237 [==============================] - 516s 2s/step - loss: 0.4053 - accuracy: 0.8882 - val_loss: 1.2012 - val_accuracy: 0.6235\n",
      "Epoch 4/5\n",
      "237/237 [==============================] - 476s 2s/step - loss: 0.2337 - accuracy: 0.9448 - val_loss: 1.1957 - val_accuracy: 0.6331\n",
      "Epoch 5/5\n",
      "237/237 [==============================] - 458s 2s/step - loss: 0.1232 - accuracy: 0.9795 - val_loss: 1.2582 - val_accuracy: 0.6415\n"
     ]
    }
   ],
   "source": [
    "hist3 = model3.fit(np.array(X_train), np.array(y_train),batch_size = 32 ,epochs = 5, verbose = 1,\n",
    "                        validation_data=(np.array(X_test), np.array(y_test)))"
   ]
  },
  {
   "cell_type": "markdown",
   "id": "f1ee9d4b",
   "metadata": {},
   "source": [
    "## comparing model accuracy for each optimizer"
   ]
  },
  {
   "cell_type": "code",
   "execution_count": 2,
   "id": "866e6ef9",
   "metadata": {},
   "outputs": [],
   "source": [
    "plt.figure(figsize=(7,5))\n",
    "plt.plot(hist1.history['accuracy'], color = 'red', label='Adam')\n",
    "plt.plot(hist2.history['accuracy'], color = 'blue', label='RMSProp')\n",
    "plt.plot(hist3.history['accuracy'], color = 'cyan', label = 'SGD')\n",
    "plt.plot(hist1.history['val_accuracy'], linestyle = '--',color = 'red')\n",
    "plt.plot(hist2.history['val_accuracy'], linestyle = '--', color = 'blue')\n",
    "plt.plot(hist3.history['val_accuracy'], linestyle = '--', color = 'cyan')\n",
    "plt.xticks(range(0,5))\n",
    "plt.xlim([0,4])\n",
    "plt.ylim([0,1])\n",
    "plt.xlabel('epoch')\n",
    "plt.ylabel('Metrics')\n",
    "plt.title('Training vs Validation Accuracy at each Epoch')\n",
    "plt.legend()\n",
    "plt.show()"
   ]
  },
  {
   "cell_type": "markdown",
   "id": "afd1f5f8",
   "metadata": {},
   "source": [
    "## plotting loss comparison for each optimizer"
   ]
  },
  {
   "cell_type": "code",
   "execution_count": 169,
   "id": "4ca7f6a4",
   "metadata": {},
   "outputs": [
    {
     "data": {
      "image/png": "[encoded data removed]",
      "text/plain": [
       "<Figure size 700x500 with 1 Axes>"
      ]
     },
     "metadata": {},
     "output_type": "display_data"
    }
   ],
   "source": [
    "plt.figure(figsize=(7,5))\n",
    "plt.plot(hist1.history['loss'], color = 'red', label='Adam')\n",
    "plt.plot(hist2.history['loss'], color = 'blue', label='RMSProp')\n",
    "plt.plot(hist3.history['loss'], color = 'cyan', label = 'SGD')\n",
    "plt.plot(hist1.history['val_loss'], linestyle = '--',color = 'red', label='Adam')\n",
    "plt.plot(hist2.history['val_loss'], linestyle = '--', color = 'blue', label='RMSProp')\n",
    "plt.plot(hist3.history['val_loss'], linestyle = '--', color = 'cyan', label = 'SGD')\n",
    "plt.xlim([0,4])\n",
    "plt.xticks(range(0,5))\n",
    "plt.xlabel('epoch')\n",
    "plt.ylabel('Metrics')\n",
    "plt.title('Loss at each Epoch')\n",
    "plt.legend()\n",
    "plt.show()"
   ]
  },
  {
   "cell_type": "markdown",
   "id": "1374c155",
   "metadata": {},
   "source": [
    "## Further optimizing RMSProp\n",
    "- Adding Batch Normalization to the optimized model\n",
    "- Training using larger batch size and more epochs"
   ]
  },
  {
   "cell_type": "code",
   "execution_count": 92,
   "id": "ba09e704",
   "metadata": {},
   "outputs": [],
   "source": [
    "model4 = tf.keras.Sequential([\n",
    "    tf.keras.layers.Conv2D(32,(3,3), padding='valid', activation= tf.nn.relu,\n",
    "                           kernel_initializer= 'he_normal',input_shape= (224,224,3)),\n",
    "    tf.keras.layers.BatchNormalization(),\n",
    "    tf.keras.layers.MaxPooling2D((2,2), strides = 2),\n",
    "    tf.keras.layers.Conv2D(32,(3,3), padding = 'valid', activation = tf.nn.relu),\n",
    "    tf.keras.layers.BatchNormalization(),\n",
    "    tf.keras.layers.MaxPooling2D((2,2), strides = 2),\n",
    "    tf.keras.layers.Dropout(0.5),\n",
    "    tf.keras.layers.Flatten(),\n",
    "    tf.keras.layers.Dense(128, activation= tf.nn.relu),\n",
    "    tf.keras.layers.BatchNormalization(),\n",
    "    tf.keras.layers.Dense(10, activation= tf.nn.softmax)\n",
    "    ])\n",
    "model4.compile(optimizer= 'RMSProp', loss= 'sparse_categorical_crossentropy', metrics=['accuracy'])"
   ]
  },
  {
   "cell_type": "code",
   "execution_count": 93,
   "id": "a8833b70",
   "metadata": {},
   "outputs": [
    {
     "name": "stdout",
     "output_type": "stream",
     "text": [
      "Epoch 1/10\n",
      "119/119 [==============================] - 202s 2s/step - loss: 1.5038 - accuracy: 0.5197 - val_loss: 3.5653 - val_accuracy: 0.1605\n",
      "Epoch 2/10\n",
      "119/119 [==============================] - 288s 2s/step - loss: 0.6340 - accuracy: 0.8086 - val_loss: 3.2048 - val_accuracy: 0.1394\n",
      "Epoch 3/10\n",
      "119/119 [==============================] - 256s 2s/step - loss: 0.1627 - accuracy: 0.9612 - val_loss: 2.2276 - val_accuracy: 0.3627\n",
      "Epoch 4/10\n",
      "119/119 [==============================] - 199s 2s/step - loss: 0.0531 - accuracy: 0.9906 - val_loss: 1.5089 - val_accuracy: 0.5839\n",
      "Epoch 5/10\n",
      "119/119 [==============================] - 202s 2s/step - loss: 0.0289 - accuracy: 0.9939 - val_loss: 1.6870 - val_accuracy: 0.5887\n",
      "Epoch 6/10\n",
      "119/119 [==============================] - 199s 2s/step - loss: 0.0200 - accuracy: 0.9963 - val_loss: 1.6105 - val_accuracy: 0.6331\n",
      "Epoch 7/10\n",
      "119/119 [==============================] - 200s 2s/step - loss: 0.0115 - accuracy: 0.9983 - val_loss: 1.7735 - val_accuracy: 0.6241\n",
      "Epoch 8/10\n",
      "119/119 [==============================] - 200s 2s/step - loss: 0.0098 - accuracy: 0.9980 - val_loss: 1.5203 - val_accuracy: 0.6531\n",
      "Epoch 9/10\n",
      "119/119 [==============================] - 200s 2s/step - loss: 0.0089 - accuracy: 0.9985 - val_loss: 1.7091 - val_accuracy: 0.6426\n",
      "Epoch 10/10\n",
      "119/119 [==============================] - 220s 2s/step - loss: 0.0052 - accuracy: 0.9988 - val_loss: 2.0303 - val_accuracy: 0.6040\n"
     ]
    }
   ],
   "source": [
    "hist4 = model4.fit(np.array(X_train), np.array(y_train),batch_size = 64 ,epochs = 10, verbose = 1,\n",
    "                        validation_data=(np.array(X_test), np.array(y_test)))"
   ]
  },
  {
   "cell_type": "markdown",
   "id": "37c0c860",
   "metadata": {},
   "source": [
    "## Dataframe of model performance\n",
    "- Comparing models by tabulating the data"
   ]
  },
  {
   "cell_type": "code",
   "execution_count": 115,
   "id": "af36dd60",
   "metadata": {},
   "outputs": [
    {
     "data": {
      "text/html": [
       "<div>\n",
       "<style scoped>\n",
       "    .dataframe tbody tr th:only-of-type {\n",
       "        vertical-align: middle;\n",
       "    }\n",
       "\n",
       "    .dataframe tbody tr th {\n",
       "        vertical-align: top;\n",
       "    }\n",
       "\n",
       "    .dataframe thead th {\n",
       "        text-align: right;\n",
       "    }\n",
       "</style>\n",
       "<table border=\"1\" class=\"dataframe\">\n",
       "  <thead>\n",
       "    <tr style=\"text-align: right;\">\n",
       "      <th></th>\n",
       "      <th>loss</th>\n",
       "      <th>accuracy</th>\n",
       "      <th>val_loss</th>\n",
       "      <th>val_accuracy</th>\n",
       "      <th>Model</th>\n",
       "    </tr>\n",
       "  </thead>\n",
       "  <tbody>\n",
       "    <tr>\n",
       "      <th>0</th>\n",
       "      <td>1.525479</td>\n",
       "      <td>0.504026</td>\n",
       "      <td>2.260547</td>\n",
       "      <td>0.313094</td>\n",
       "      <td>Adam</td>\n",
       "    </tr>\n",
       "    <tr>\n",
       "      <th>1</th>\n",
       "      <td>0.046518</td>\n",
       "      <td>0.992079</td>\n",
       "      <td>1.326922</td>\n",
       "      <td>0.649947</td>\n",
       "      <td>Adam</td>\n",
       "    </tr>\n",
       "    <tr>\n",
       "      <th>2</th>\n",
       "      <td>1.491056</td>\n",
       "      <td>0.515644</td>\n",
       "      <td>2.226873</td>\n",
       "      <td>0.317318</td>\n",
       "      <td>RMSProp</td>\n",
       "    </tr>\n",
       "    <tr>\n",
       "      <th>3</th>\n",
       "      <td>0.037250</td>\n",
       "      <td>0.991947</td>\n",
       "      <td>1.639357</td>\n",
       "      <td>0.634636</td>\n",
       "      <td>RMSProp</td>\n",
       "    </tr>\n",
       "    <tr>\n",
       "      <th>4</th>\n",
       "      <td>1.538894</td>\n",
       "      <td>0.496502</td>\n",
       "      <td>2.609390</td>\n",
       "      <td>0.223865</td>\n",
       "      <td>SGD</td>\n",
       "    </tr>\n",
       "    <tr>\n",
       "      <th>5</th>\n",
       "      <td>0.123238</td>\n",
       "      <td>0.979538</td>\n",
       "      <td>1.258221</td>\n",
       "      <td>0.641499</td>\n",
       "      <td>SGD</td>\n",
       "    </tr>\n",
       "  </tbody>\n",
       "</table>\n",
       "</div>"
      ],
      "text/plain": [
       "       loss  accuracy  val_loss  val_accuracy    Model\n",
       "0  1.525479  0.504026  2.260547      0.313094     Adam\n",
       "1  0.046518  0.992079  1.326922      0.649947     Adam\n",
       "2  1.491056  0.515644  2.226873      0.317318  RMSProp\n",
       "3  0.037250  0.991947  1.639357      0.634636  RMSProp\n",
       "4  1.538894  0.496502  2.609390      0.223865      SGD\n",
       "5  0.123238  0.979538  1.258221      0.641499      SGD"
      ]
     },
     "execution_count": 115,
     "metadata": {},
     "output_type": "execute_result"
    }
   ],
   "source": [
    "history1_df = pd.DataFrame(hist1.history).loc[[0,4],:]\n",
    "history2_df = pd.DataFrame(hist2.history).loc[[0,4],:]\n",
    "history3_df = pd.DataFrame(hist3.history).loc[[0,4],:]\n",
    "history1_df['Model'] = 'Adam'\n",
    "history2_df['Model'] = 'RMSProp'\n",
    "history3_df['Model'] = 'SGD'\n",
    "history_df = pd.concat([history1_df,history2_df,history3_df], ignore_index = True)\n",
    "history_df\n",
    "\n",
    "# history_df = pd.concat([pd.DataFrame(hist2.history), \n",
    "#                         pd.DataFrame(hist4.history)], \n",
    "#                        ignore_index = True)\n",
    "# history_df"
   ]
  },
  {
   "cell_type": "markdown",
   "id": "c3fb5d15",
   "metadata": {},
   "source": [
    "# Baseline RMSProp vs Optimized\n",
    " - comparing original model with optimized version"
   ]
  },
  {
   "cell_type": "code",
   "execution_count": 122,
   "id": "99a66076",
   "metadata": {},
   "outputs": [
    {
     "data": {
      "text/html": [
       "<div>\n",
       "<style scoped>\n",
       "    .dataframe tbody tr th:only-of-type {\n",
       "        vertical-align: middle;\n",
       "    }\n",
       "\n",
       "    .dataframe tbody tr th {\n",
       "        vertical-align: top;\n",
       "    }\n",
       "\n",
       "    .dataframe thead th {\n",
       "        text-align: right;\n",
       "    }\n",
       "</style>\n",
       "<table border=\"1\" class=\"dataframe\">\n",
       "  <thead>\n",
       "    <tr style=\"text-align: right;\">\n",
       "      <th></th>\n",
       "      <th>loss</th>\n",
       "      <th>accuracy</th>\n",
       "      <th>val_loss</th>\n",
       "      <th>val_accuracy</th>\n",
       "      <th>Epoch</th>\n",
       "    </tr>\n",
       "  </thead>\n",
       "  <tbody>\n",
       "    <tr>\n",
       "      <th>0</th>\n",
       "      <td>1.491056</td>\n",
       "      <td>0.515644</td>\n",
       "      <td>2.226873</td>\n",
       "      <td>0.317318</td>\n",
       "      <td>1</td>\n",
       "    </tr>\n",
       "    <tr>\n",
       "      <th>1</th>\n",
       "      <td>0.037250</td>\n",
       "      <td>0.991947</td>\n",
       "      <td>1.639357</td>\n",
       "      <td>0.634636</td>\n",
       "      <td>5</td>\n",
       "    </tr>\n",
       "    <tr>\n",
       "      <th>2</th>\n",
       "      <td>1.503831</td>\n",
       "      <td>0.519736</td>\n",
       "      <td>3.565297</td>\n",
       "      <td>0.160507</td>\n",
       "      <td>1</td>\n",
       "    </tr>\n",
       "    <tr>\n",
       "      <th>3</th>\n",
       "      <td>0.028923</td>\n",
       "      <td>0.993927</td>\n",
       "      <td>1.686983</td>\n",
       "      <td>0.588701</td>\n",
       "      <td>5</td>\n",
       "    </tr>\n",
       "    <tr>\n",
       "      <th>4</th>\n",
       "      <td>0.005197</td>\n",
       "      <td>0.998812</td>\n",
       "      <td>2.030284</td>\n",
       "      <td>0.604013</td>\n",
       "      <td>10</td>\n",
       "    </tr>\n",
       "  </tbody>\n",
       "</table>\n",
       "</div>"
      ],
      "text/plain": [
       "       loss  accuracy  val_loss  val_accuracy  Epoch\n",
       "0  1.491056  0.515644  2.226873      0.317318      1\n",
       "1  0.037250  0.991947  1.639357      0.634636      5\n",
       "2  1.503831  0.519736  3.565297      0.160507      1\n",
       "3  0.028923  0.993927  1.686983      0.588701      5\n",
       "4  0.005197  0.998812  2.030284      0.604013     10"
      ]
     },
     "execution_count": 122,
     "metadata": {},
     "output_type": "execute_result"
    }
   ],
   "source": [
    "history2_df = pd.DataFrame(hist2.history).loc[[0,4],:]\n",
    "history4_df = pd.DataFrame(hist4.history).loc[[0,4,9],:]\n",
    "history2_df['Epoch'] = [1,5]\n",
    "history4_df['Epoch'] = [1,5,10]\n",
    "history_df = pd.concat([history2_df,history4_df], ignore_index = True)\n",
    "history_df"
   ]
  },
  {
   "cell_type": "code",
   "execution_count": 97,
   "id": "bc106940",
   "metadata": {},
   "outputs": [
    {
     "data": {
      "text/html": [
       "<div>\n",
       "<style scoped>\n",
       "    .dataframe tbody tr th:only-of-type {\n",
       "        vertical-align: middle;\n",
       "    }\n",
       "\n",
       "    .dataframe tbody tr th {\n",
       "        vertical-align: top;\n",
       "    }\n",
       "\n",
       "    .dataframe thead th {\n",
       "        text-align: right;\n",
       "    }\n",
       "</style>\n",
       "<table border=\"1\" class=\"dataframe\">\n",
       "  <thead>\n",
       "    <tr style=\"text-align: right;\">\n",
       "      <th></th>\n",
       "      <th>loss</th>\n",
       "      <th>accuracy</th>\n",
       "      <th>val_loss</th>\n",
       "      <th>val_accuracy</th>\n",
       "    </tr>\n",
       "  </thead>\n",
       "  <tbody>\n",
       "    <tr>\n",
       "      <th>0</th>\n",
       "      <td>1.525479</td>\n",
       "      <td>0.504026</td>\n",
       "      <td>2.260547</td>\n",
       "      <td>0.313094</td>\n",
       "    </tr>\n",
       "    <tr>\n",
       "      <th>1</th>\n",
       "      <td>0.773225</td>\n",
       "      <td>0.755116</td>\n",
       "      <td>1.655427</td>\n",
       "      <td>0.499472</td>\n",
       "    </tr>\n",
       "    <tr>\n",
       "      <th>2</th>\n",
       "      <td>0.289106</td>\n",
       "      <td>0.915644</td>\n",
       "      <td>1.171184</td>\n",
       "      <td>0.640444</td>\n",
       "    </tr>\n",
       "    <tr>\n",
       "      <th>3</th>\n",
       "      <td>0.097098</td>\n",
       "      <td>0.977954</td>\n",
       "      <td>1.362591</td>\n",
       "      <td>0.634636</td>\n",
       "    </tr>\n",
       "    <tr>\n",
       "      <th>4</th>\n",
       "      <td>0.046518</td>\n",
       "      <td>0.992079</td>\n",
       "      <td>1.326922</td>\n",
       "      <td>0.649947</td>\n",
       "    </tr>\n",
       "    <tr>\n",
       "      <th>5</th>\n",
       "      <td>1.491056</td>\n",
       "      <td>0.515644</td>\n",
       "      <td>2.226873</td>\n",
       "      <td>0.317318</td>\n",
       "    </tr>\n",
       "    <tr>\n",
       "      <th>6</th>\n",
       "      <td>0.657542</td>\n",
       "      <td>0.791947</td>\n",
       "      <td>1.425159</td>\n",
       "      <td>0.533791</td>\n",
       "    </tr>\n",
       "    <tr>\n",
       "      <th>7</th>\n",
       "      <td>0.192509</td>\n",
       "      <td>0.947195</td>\n",
       "      <td>1.306512</td>\n",
       "      <td>0.635692</td>\n",
       "    </tr>\n",
       "    <tr>\n",
       "      <th>8</th>\n",
       "      <td>0.071536</td>\n",
       "      <td>0.983102</td>\n",
       "      <td>1.472837</td>\n",
       "      <td>0.629884</td>\n",
       "    </tr>\n",
       "    <tr>\n",
       "      <th>9</th>\n",
       "      <td>0.037250</td>\n",
       "      <td>0.991947</td>\n",
       "      <td>1.639357</td>\n",
       "      <td>0.634636</td>\n",
       "    </tr>\n",
       "    <tr>\n",
       "      <th>10</th>\n",
       "      <td>1.538894</td>\n",
       "      <td>0.496502</td>\n",
       "      <td>2.609390</td>\n",
       "      <td>0.223865</td>\n",
       "    </tr>\n",
       "    <tr>\n",
       "      <th>11</th>\n",
       "      <td>0.790787</td>\n",
       "      <td>0.750627</td>\n",
       "      <td>1.563502</td>\n",
       "      <td>0.512672</td>\n",
       "    </tr>\n",
       "    <tr>\n",
       "      <th>12</th>\n",
       "      <td>0.405313</td>\n",
       "      <td>0.888185</td>\n",
       "      <td>1.201167</td>\n",
       "      <td>0.623548</td>\n",
       "    </tr>\n",
       "    <tr>\n",
       "      <th>13</th>\n",
       "      <td>0.233687</td>\n",
       "      <td>0.944818</td>\n",
       "      <td>1.195715</td>\n",
       "      <td>0.633052</td>\n",
       "    </tr>\n",
       "    <tr>\n",
       "      <th>14</th>\n",
       "      <td>0.123238</td>\n",
       "      <td>0.979538</td>\n",
       "      <td>1.258221</td>\n",
       "      <td>0.641499</td>\n",
       "    </tr>\n",
       "  </tbody>\n",
       "</table>\n",
       "</div>"
      ],
      "text/plain": [
       "        loss  accuracy  val_loss  val_accuracy\n",
       "0   1.525479  0.504026  2.260547      0.313094\n",
       "1   0.773225  0.755116  1.655427      0.499472\n",
       "2   0.289106  0.915644  1.171184      0.640444\n",
       "3   0.097098  0.977954  1.362591      0.634636\n",
       "4   0.046518  0.992079  1.326922      0.649947\n",
       "5   1.491056  0.515644  2.226873      0.317318\n",
       "6   0.657542  0.791947  1.425159      0.533791\n",
       "7   0.192509  0.947195  1.306512      0.635692\n",
       "8   0.071536  0.983102  1.472837      0.629884\n",
       "9   0.037250  0.991947  1.639357      0.634636\n",
       "10  1.538894  0.496502  2.609390      0.223865\n",
       "11  0.790787  0.750627  1.563502      0.512672\n",
       "12  0.405313  0.888185  1.201167      0.623548\n",
       "13  0.233687  0.944818  1.195715      0.633052\n",
       "14  0.123238  0.979538  1.258221      0.641499"
      ]
     },
     "execution_count": 97,
     "metadata": {},
     "output_type": "execute_result"
    }
   ],
   "source": [
    "history_df = pd.concat([pd.DataFrame(hist1.history), \n",
    "                        pd.DataFrame(hist2.history), \n",
    "                        pd.DataFrame(hist3.history)], \n",
    "                       ignore_index = True)\n",
    "history_df"
   ]
  },
  {
   "cell_type": "markdown",
   "id": "fe3c44cc",
   "metadata": {},
   "source": [
    "# Plotting Baseline model vs Optimized model\n",
    " - RMSProp further optimized using BatchNormalization.\n",
    " - Comparing training accuracy of both models"
   ]
  },
  {
   "cell_type": "code",
   "execution_count": 148,
   "id": "f4102244",
   "metadata": {},
   "outputs": [
    {
     "data": {
      "text/plain": [
       "<matplotlib.legend.Legend at 0x1a555b00a30>"
      ]
     },
     "execution_count": 148,
     "metadata": {},
     "output_type": "execute_result"
    },
    {
     "data": {
      "image/png": "[encoded data removed]",
      "text/plain": [
       "<Figure size 700x300 with 1 Axes>"
      ]
     },
     "metadata": {},
     "output_type": "display_data"
    }
   ],
   "source": [
    "plt.figure(figsize=(7,3))\n",
    "plt.plot(history.history['accuracy'], color = 'red', label='Baseline')\n",
    "plt.plot(hist4.history['accuracy'], color = 'blue', linestyle = '--', label= 'RMSProp_BN')\n",
    "plt.legend()"
   ]
  },
  {
   "cell_type": "markdown",
   "id": "9e40baeb",
   "metadata": {},
   "source": [
    "## Finetuning learning rate in optimized model"
   ]
  },
  {
   "cell_type": "code",
   "execution_count": 171,
   "id": "b7d0f971",
   "metadata": {},
   "outputs": [],
   "source": [
    "model5 = tf.keras.Sequential([\n",
    "    tf.keras.layers.Conv2D(32,(3,3), padding='valid', activation= tf.nn.relu,\n",
    "                           kernel_initializer= 'he_normal',input_shape= (224,224,3)),\n",
    "    tf.keras.layers.BatchNormalization(),\n",
    "    tf.keras.layers.MaxPooling2D((2,2), strides = 2),\n",
    "    tf.keras.layers.Conv2D(32,(3,3), padding = 'valid', activation = tf.nn.relu),\n",
    "    tf.keras.layers.BatchNormalization(),\n",
    "    tf.keras.layers.MaxPooling2D((2,2), strides = 2),\n",
    "    tf.keras.layers.Dropout(0.5),\n",
    "    tf.keras.layers.Flatten(),\n",
    "    tf.keras.layers.Dense(128, activation= tf.nn.relu),\n",
    "    tf.keras.layers.BatchNormalization(),\n",
    "    tf.keras.layers.Dense(10, activation= tf.nn.softmax)\n",
    "    ])\n",
    "optimizer = RMSprop(learning_rate = 0.001)\n",
    "model5.compile(optimizer= optimizer, loss= 'sparse_categorical_crossentropy', metrics=['accuracy'])"
   ]
  },
  {
   "cell_type": "code",
   "execution_count": 142,
   "id": "8f901061",
   "metadata": {},
   "outputs": [
    {
     "name": "stdout",
     "output_type": "stream",
     "text": [
      "Epoch 1/5\n",
      "119/119 [==============================] - 190s 2s/step - loss: 1.5070 - accuracy: 0.5251 - val_loss: 3.0160 - val_accuracy: 0.1874\n",
      "Epoch 2/5\n",
      "119/119 [==============================] - 202s 2s/step - loss: 0.6468 - accuracy: 0.7954 - val_loss: 3.5399 - val_accuracy: 0.1589\n",
      "Epoch 3/5\n",
      "119/119 [==============================] - 201s 2s/step - loss: 0.1966 - accuracy: 0.9455 - val_loss: 2.4798 - val_accuracy: 0.3221\n",
      "Epoch 4/5\n",
      "119/119 [==============================] - 198s 2s/step - loss: 0.0828 - accuracy: 0.9820 - val_loss: 1.7440 - val_accuracy: 0.4984\n",
      "Epoch 5/5\n",
      "119/119 [==============================] - 200s 2s/step - loss: 0.0590 - accuracy: 0.9853 - val_loss: 1.7308 - val_accuracy: 0.5723\n"
     ]
    }
   ],
   "source": [
    "hist5 = model5.fit(np.array(X_train), np.array(y_train),batch_size = 64 ,epochs = 5, verbose = 1,\n",
    "                        validation_data=(np.array(X_test), np.array(y_test)))"
   ]
  },
  {
   "cell_type": "markdown",
   "id": "d8ac86e1",
   "metadata": {},
   "source": [
    "### Optimized model with a smaller batch size"
   ]
  },
  {
   "cell_type": "code",
   "execution_count": 176,
   "id": "964b7fdf",
   "metadata": {},
   "outputs": [],
   "source": [
    "model6 = tf.keras.Sequential([\n",
    "    tf.keras.layers.Conv2D(32,(3,3), padding='valid', activation= tf.nn.relu,\n",
    "                           kernel_initializer= 'he_normal',input_shape= (224,224,3)),\n",
    "    tf.keras.layers.BatchNormalization(),\n",
    "    tf.keras.layers.Dropout(0.3),\n",
    "    tf.keras.layers.MaxPooling2D((2,2), strides = 2),\n",
    "    tf.keras.layers.Conv2D(32,(3,3), padding = 'valid', activation = tf.nn.relu),\n",
    "    tf.keras.layers.BatchNormalization(),\n",
    "    tf.keras.layers.Dropout(0.4),\n",
    "    tf.keras.layers.MaxPooling2D((2,2), strides = 2),\n",
    "    tf.keras.layers.Flatten(),\n",
    "    tf.keras.layers.Dense(128, activation= tf.nn.relu),\n",
    "    tf.keras.layers.BatchNormalization(),\n",
    "    tf.keras.layers.Dropout(0.5),\n",
    "    tf.keras.layers.Dense(10, activation= tf.nn.softmax)\n",
    "    ])\n",
    "model6.compile(optimizer= 'RMSProp', loss= 'sparse_categorical_crossentropy', metrics=['accuracy'])"
   ]
  },
  {
   "cell_type": "code",
   "execution_count": 178,
   "id": "ac40e411",
   "metadata": {},
   "outputs": [
    {
     "name": "stdout",
     "output_type": "stream",
     "text": [
      "Epoch 1/5\n",
      "237/237 [==============================] - 279s 1s/step - loss: 0.1549 - accuracy: 0.9512 - val_loss: 6.6105 - val_accuracy: 0.5132\n",
      "Epoch 2/5\n",
      "237/237 [==============================] - 279s 1s/step - loss: 0.1511 - accuracy: 0.9512 - val_loss: 2.6776 - val_accuracy: 0.5803\n",
      "Epoch 3/5\n",
      "237/237 [==============================] - 291s 1s/step - loss: 0.1163 - accuracy: 0.9620 - val_loss: 4.0125 - val_accuracy: 0.5180\n",
      "Epoch 4/5\n",
      "237/237 [==============================] - 285s 1s/step - loss: 0.0952 - accuracy: 0.9720 - val_loss: 4.3611 - val_accuracy: 0.5143\n",
      "Epoch 5/5\n",
      "237/237 [==============================] - 290s 1s/step - loss: 0.0772 - accuracy: 0.9761 - val_loss: 4.5147 - val_accuracy: 0.5655\n"
     ]
    }
   ],
   "source": [
    "hist6 = model6.fit(np.array(X_train), np.array(y_train),batch_size = 32 ,epochs = 5, verbose = 1,\n",
    "                        validation_data=(np.array(X_test), np.array(y_test)))"
   ]
  },
  {
   "cell_type": "code",
   "execution_count": 181,
   "id": "7b77e1bd",
   "metadata": {},
   "outputs": [],
   "source": [
    "model7 = tf.keras.Sequential([\n",
    "    tf.keras.layers.Conv2D(32,(3,3), padding='valid', activation= tf.nn.relu,\n",
    "                           kernel_initializer= 'he_normal',input_shape= (224,224,3)),\n",
    "    tf.keras.layers.BatchNormalization(),\n",
    "    tf.keras.layers.Dropout(0.3),\n",
    "    tf.keras.layers.MaxPooling2D((2,2), strides = 2),\n",
    "    tf.keras.layers.Conv2D(32,(3,3), padding = 'valid', activation = tf.nn.relu),\n",
    "    tf.keras.layers.BatchNormalization(),\n",
    "    tf.keras.layers.Dropout(0.4),\n",
    "    tf.keras.layers.MaxPooling2D((2,2), strides = 2),\n",
    "    tf.keras.layers.Flatten(),\n",
    "    tf.keras.layers.Dense(128, activation= tf.nn.relu),\n",
    "    tf.keras.layers.BatchNormalization(),\n",
    "    tf.keras.layers.Dropout(0.5),\n",
    "    tf.keras.layers.Dense(10, activation= tf.nn.softmax)\n",
    "    ])\n",
    "model7.compile(optimizer= 'RMSProp', loss= 'sparse_categorical_crossentropy', metrics=['accuracy'])"
   ]
  },
  {
   "cell_type": "code",
   "execution_count": 182,
   "id": "20c0b5a1",
   "metadata": {},
   "outputs": [
    {
     "name": "stdout",
     "output_type": "stream",
     "text": [
      "Epoch 1/5\n",
      "237/237 [==============================] - 450s 2s/step - loss: 1.8262 - accuracy: 0.4199 - val_loss: 27.8390 - val_accuracy: 0.1880\n",
      "Epoch 2/5\n",
      "237/237 [==============================] - 344s 1s/step - loss: 1.1350 - accuracy: 0.6374 - val_loss: 5.0411 - val_accuracy: 0.2782\n",
      "Epoch 3/5\n",
      "237/237 [==============================] - 341s 1s/step - loss: 0.7488 - accuracy: 0.7675 - val_loss: 4.6460 - val_accuracy: 0.5037\n",
      "Epoch 4/5\n",
      "237/237 [==============================] - 347s 1s/step - loss: 0.4379 - accuracy: 0.8689 - val_loss: 3.3070 - val_accuracy: 0.5660\n",
      "Epoch 5/5\n",
      "237/237 [==============================] - 419s 2s/step - loss: 0.2629 - accuracy: 0.9238 - val_loss: 2.3346 - val_accuracy: 0.5570\n"
     ]
    }
   ],
   "source": [
    "hist7 = model7.fit(np.array(X_train), np.array(y_train),batch_size = 32 ,epochs = 5, verbose = 1,\n",
    "                        validation_data=(np.array(X_test), np.array(y_test)))"
   ]
  },
  {
   "cell_type": "markdown",
   "id": "6244671e",
   "metadata": {},
   "source": [
    "## Pretrained model (VGG16)\n",
    " - fit a pretrained VGG16 model architecture to explore improvement in performance"
   ]
  },
  {
   "cell_type": "code",
   "execution_count": 10,
   "id": "e1a6eb18",
   "metadata": {},
   "outputs": [],
   "source": [
    "from tensorflow.keras.applications.vgg16 import VGG16\n",
    "base_model = VGG16(weights = 'imagenet', include_top = False, input_shape = (224,224,3))\n",
    "\n",
    "for layer in base_model.layers:\n",
    "    layer.trainable = False\n",
    "\n",
    "model8 = tf.keras.Sequential([\n",
    "    base_model,\n",
    "    tf.keras.layers.Flatten(),\n",
    "    tf.keras.layers.Dense(256, activation= tf.nn.relu),\n",
    "    tf.keras.layers.Dense(128, activation= tf.nn.relu),\n",
    "    tf.keras.layers.Dense(10, activation= tf.nn.softmax),\n",
    "    ])\n",
    "model8.compile(optimizer= 'RMSProp', loss= 'sparse_categorical_crossentropy', metrics=['accuracy'])"
   ]
  },
  {
   "cell_type": "code",
   "execution_count": 11,
   "id": "506c3e4e",
   "metadata": {},
   "outputs": [
    {
     "name": "stdout",
     "output_type": "stream",
     "text": [
      "Epoch 1/5\n",
      "237/237 [==============================] - 1194s 5s/step - loss: 1.0520 - accuracy: 0.7443 - val_loss: 0.4188 - val_accuracy: 0.8680\n",
      "Epoch 2/5\n",
      "237/237 [==============================] - 1150s 5s/step - loss: 0.3070 - accuracy: 0.9043 - val_loss: 0.4896 - val_accuracy: 0.8606\n",
      "Epoch 3/5\n",
      "237/237 [==============================] - 1459s 6s/step - loss: 0.1866 - accuracy: 0.9391 - val_loss: 0.4014 - val_accuracy: 0.8870\n",
      "Epoch 4/5\n",
      "237/237 [==============================] - 2013s 9s/step - loss: 0.1233 - accuracy: 0.9600 - val_loss: 0.4532 - val_accuracy: 0.8955\n",
      "Epoch 5/5\n",
      "237/237 [==============================] - 1838s 8s/step - loss: 0.0839 - accuracy: 0.9745 - val_loss: 0.5472 - val_accuracy: 0.8865\n"
     ]
    }
   ],
   "source": [
    "hist8 = model8.fit(np.array(X_train), np.array(y_train),batch_size = 32 ,epochs = 5, verbose = 1,\n",
    "                        validation_data=(np.array(X_test), np.array(y_test)))"
   ]
  },
  {
   "cell_type": "code",
   "execution_count": 33,
   "id": "451815ff",
   "metadata": {},
   "outputs": [
    {
     "data": {
      "text/plain": [
       "<matplotlib.legend.Legend at 0x296d1ef7fa0>"
      ]
     },
     "execution_count": 33,
     "metadata": {},
     "output_type": "execute_result"
    },
    {
     "data": {
      "image/png": "[encoded data removed]",
      "text/plain": [
       "<Figure size 700x300 with 1 Axes>"
      ]
     },
     "metadata": {},
     "output_type": "display_data"
    }
   ],
   "source": [
    "plt.figure(figsize=(7,3))\n",
    "plt.plot(hist2.history['accuracy'], color = 'red', label='RMSProp_train')\n",
    "plt.plot(hist8.history['accuracy'], color = 'blue', label= 'RMSProp_VGG16_train')\n",
    "plt.plot(hist2.history['val_accuracy'], color = 'red', linestyle = '--', label='RMSProp_val')\n",
    "plt.plot(hist8.history['val_accuracy'], color = 'blue', linestyle = '--', label= 'RMSProp_VGG16_val')\n",
    "plt.ylim([0,1])\n",
    "plt.xlim([0,4])\n",
    "plt.xlabel('Epoch')\n",
    "plt.title('Learning curve for the pretrained VGG16 model')\n",
    "plt.legend()"
   ]
  },
  {
   "cell_type": "code",
   "execution_count": null,
   "id": "dc7a9c20",
   "metadata": {},
   "outputs": [],
   "source": []
  }
 ],
 "metadata": {
  "kernelspec": {
   "display_name": "Python 3 (ipykernel)",
   "language": "python",
   "name": "python3"
  },
  "language_info": {
   "codemirror_mode": {
    "name": "ipython",
    "version": 3
   },
   "file_extension": ".py",
   "mimetype": "text/x-python",
   "name": "python",
   "nbconvert_exporter": "python",
   "pygments_lexer": "ipython3",
   "version": "3.9.13"
  }
 },
 "nbformat": 4,
 "nbformat_minor": 5
}
